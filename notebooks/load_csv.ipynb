{
 "cells": [
  {
   "cell_type": "markdown",
   "id": "3c0e3edb-b5ec-4995-a6e4-1b0c3849a91a",
   "metadata": {},
   "source": [
    "# load single file csv"
   ]
  },
  {
   "cell_type": "code",
   "execution_count": 1,
   "id": "f76f8d27-6731-4ca4-a4c1-f71b53c0963a",
   "metadata": {},
   "outputs": [],
   "source": [
    "from langchain_community.document_loaders.csv_loader import CSVLoader"
   ]
  },
  {
   "cell_type": "code",
   "execution_count": 2,
   "id": "a88ef6c3-811a-4fa4-8d11-0b0b59f693b8",
   "metadata": {},
   "outputs": [],
   "source": [
    "FILE_PATH = 'questions.csv'"
   ]
  },
  {
   "cell_type": "code",
   "execution_count": 3,
   "id": "55802394-2878-4210-94b0-13fc9bc34c82",
   "metadata": {},
   "outputs": [],
   "source": [
    "loader = CSVLoader(file_path=FILE_PATH)\n",
    "documents = loader.load()"
   ]
  },
  {
   "cell_type": "code",
   "execution_count": 4,
   "id": "733c834b-e1ca-4201-827f-05eea8e81aa7",
   "metadata": {},
   "outputs": [],
   "source": [
    "from langchain.embeddings.sentence_transformer import SentenceTransformerEmbeddings\n",
    "from langchain.vectorstores import Chroma"
   ]
  },
  {
   "cell_type": "code",
   "execution_count": 5,
   "id": "bf38defe-6d73-4a62-8a13-6ece4f43133c",
   "metadata": {},
   "outputs": [],
   "source": [
    "embedding_function = SentenceTransformerEmbeddings(model_name=\"all-MiniLM-L6-v2\")"
   ]
  },
  {
   "cell_type": "code",
   "execution_count": 6,
   "id": "12c9900c-8f5b-4572-8e29-ce1d04f311a0",
   "metadata": {},
   "outputs": [],
   "source": [
    "db = Chroma.from_documents(documents, embedding_function)"
   ]
  },
  {
   "cell_type": "code",
   "execution_count": 7,
   "id": "5b93a62b-fead-4ca2-8e35-5469e83e7daa",
   "metadata": {},
   "outputs": [
    {
     "name": "stdout",
     "output_type": "stream",
     "text": [
      "question: There is a requirement to store objects. The objects are downloaded via a URL. Which storage option would you choose?\n",
      "Amazon Storage Gateway\n",
      "Amazon S3 \n",
      "Amazon EBS\n",
      "Amazon Glacier\n"
     ]
    }
   ],
   "source": [
    "query = \"Ask me a question about storage on cloud?\"\n",
    "\n",
    "docs = db.similarity_search(query)\n",
    "\n",
    "print(docs[0].page_content)"
   ]
  },
  {
   "cell_type": "markdown",
   "id": "a08b4e5b-92a3-477b-894c-0687cdb054b7",
   "metadata": {},
   "source": [
    "# load multi files csv"
   ]
  },
  {
   "cell_type": "code",
   "execution_count": 8,
   "id": "43923060-ca39-443f-8250-4ff70bcd0b1b",
   "metadata": {},
   "outputs": [],
   "source": [
    "from langchain_community.document_loaders import DirectoryLoader\n",
    "from langchain.document_loaders.csv_loader import CSVLoader"
   ]
  },
  {
   "cell_type": "code",
   "execution_count": 9,
   "id": "f37ae073-f249-4117-bd29-89bf22053613",
   "metadata": {},
   "outputs": [],
   "source": [
    "FILES_PATH = '../resource/exams/'"
   ]
  },
  {
   "cell_type": "code",
   "execution_count": 10,
   "id": "ef01264a-8dce-4c45-8d89-5176dae59280",
   "metadata": {},
   "outputs": [],
   "source": [
    "loader = DirectoryLoader(FILES_PATH,  glob=\"*.csv\",\n",
    "                         show_progress=True,\n",
    "                         loader_cls=CSVLoader)"
   ]
  },
  {
   "cell_type": "code",
   "execution_count": 11,
   "id": "d1168f3a-fb4e-4dab-9071-4bf8b88dd665",
   "metadata": {},
   "outputs": [
    {
     "name": "stderr",
     "output_type": "stream",
     "text": [
      "100%|████████████████████████████████████████████████████████████████████████████████████████████████████████████████| 7/7 [00:00<00:00, 1067.33it/s]\n"
     ]
    }
   ],
   "source": [
    "documents = loader.load()"
   ]
  },
  {
   "cell_type": "code",
   "execution_count": 12,
   "id": "75f9e7f6-0618-4688-b704-7e1649047a2b",
   "metadata": {},
   "outputs": [],
   "source": [
    "# from langchain.embeddings import OpenAIEmbeddings\n",
    "# embedding = OpenAIEmbeddings()"
   ]
  },
  {
   "cell_type": "code",
   "execution_count": 13,
   "id": "3420106c-4ef9-44aa-b532-87704ae606f0",
   "metadata": {},
   "outputs": [],
   "source": [
    "from langchain.embeddings.sentence_transformer import SentenceTransformerEmbeddings"
   ]
  },
  {
   "cell_type": "code",
   "execution_count": 14,
   "id": "41e05534-925f-43ab-a49c-d9162cb70230",
   "metadata": {},
   "outputs": [],
   "source": [
    "# create embedding\n",
    "embedding = SentenceTransformerEmbeddings(model_name=\"all-MiniLM-L6-v2\")"
   ]
  },
  {
   "cell_type": "code",
   "execution_count": 15,
   "id": "2eb5d69d-2106-40da-9035-a8ff0383d605",
   "metadata": {},
   "outputs": [],
   "source": [
    "from langchain.vectorstores import Chroma"
   ]
  },
  {
   "cell_type": "code",
   "execution_count": 16,
   "id": "4c247227-03fb-4f9e-91a6-b08b9455cac7",
   "metadata": {},
   "outputs": [],
   "source": [
    "persist_directory = '../chroma/'"
   ]
  },
  {
   "cell_type": "code",
   "execution_count": 17,
   "id": "b231e601-07ee-4a7f-9495-1d567991fb78",
   "metadata": {},
   "outputs": [],
   "source": [
    "vectordb = Chroma.from_documents(\n",
    "    documents=documents,\n",
    "    embedding=embedding,\n",
    "    persist_directory=persist_directory\n",
    ")"
   ]
  },
  {
   "cell_type": "code",
   "execution_count": 18,
   "id": "6050220c-9c06-42c3-a136-5921c4abcf3a",
   "metadata": {},
   "outputs": [
    {
     "name": "stdout",
     "output_type": "stream",
     "text": [
      "460\n"
     ]
    }
   ],
   "source": [
    "print(vectordb._collection.count())"
   ]
  },
  {
   "cell_type": "code",
   "execution_count": 19,
   "id": "43ed880c-33f2-45e0-a657-eec77fb71c67",
   "metadata": {},
   "outputs": [],
   "source": [
    "# Load chromadb langchain\n",
    "loaded_vectordb = Chroma(\n",
    "    persist_directory = persist_directory,\n",
    "    embedding_function = embedding\n",
    ")"
   ]
  },
  {
   "cell_type": "code",
   "execution_count": 20,
   "id": "195fbc5d-4f69-4415-b22e-5c3d3f11f5ef",
   "metadata": {},
   "outputs": [],
   "source": [
    "query = \"Ask my the questions about billing?\""
   ]
  },
  {
   "cell_type": "code",
   "execution_count": 21,
   "id": "e46d0261-fb77-4494-ad06-5a444f54a67e",
   "metadata": {},
   "outputs": [
    {
     "data": {
      "text/plain": [
       "3"
      ]
     },
     "execution_count": 21,
     "metadata": {},
     "output_type": "execute_result"
    }
   ],
   "source": [
    "docs = loaded_vectordb.similarity_search(query,k=3)\n",
    "len(docs)"
   ]
  },
  {
   "cell_type": "code",
   "execution_count": 22,
   "id": "1833995c-1e6e-46c6-8939-13c483fc12be",
   "metadata": {},
   "outputs": [
    {
     "name": "stdout",
     "output_type": "stream",
     "text": [
      "question: You are an AWS Enterprise customer with questions about billing and you overall AWS account? Which of the following AWS support personnel should you contact?\n",
      "AWS Support \n",
      "AWS Concierge\n",
      "AWS Billing and Accounts\n",
      "AWS Technical Account Manager\n"
     ]
    }
   ],
   "source": [
    "print(docs[0].page_content)"
   ]
  },
  {
   "cell_type": "code",
   "execution_count": 23,
   "id": "7cf9ae3c-07a9-4240-9e9d-b310b626f411",
   "metadata": {},
   "outputs": [
    {
     "name": "stdout",
     "output_type": "stream",
     "text": [
      "question: Which of the following options is the recommended way to get billing support on AWS?\n",
      "Open a billing support case \n",
      "Use third-party partners and tools\n",
      "Contact your account manager\n",
      "Use the AWS Billing and Cost Management dashboard\n"
     ]
    }
   ],
   "source": [
    "print(docs[1].page_content)"
   ]
  },
  {
   "cell_type": "code",
   "execution_count": 24,
   "id": "0ad14a42-7d17-4925-9abc-b32de853dbd7",
   "metadata": {},
   "outputs": [
    {
     "name": "stdout",
     "output_type": "stream",
     "text": [
      "question: Which of the following options is the recommended way to get billing support on AWS?\n",
      "Contact your account manager\n",
      "Use the AWS Billing and Cost Management dashboard \n",
      "Use third-party partners and tools\n",
      "Open a billing support case\n"
     ]
    }
   ],
   "source": [
    "print(docs[2].page_content)"
   ]
  },
  {
   "cell_type": "markdown",
   "id": "5d497679-f78b-48f2-932f-f7e35e463b2b",
   "metadata": {},
   "source": [
    "# references\n",
    "\n",
    "[How to use CSV files in vector stores with Langchain](https://how.wtf/how-to-use-csv-files-in-vector-stores-with-langchain.html)"
   ]
  }
 ],
 "metadata": {
  "kernelspec": {
   "display_name": "Python 3 (ipykernel)",
   "language": "python",
   "name": "python3"
  },
  "language_info": {
   "codemirror_mode": {
    "name": "ipython",
    "version": 3
   },
   "file_extension": ".py",
   "mimetype": "text/x-python",
   "name": "python",
   "nbconvert_exporter": "python",
   "pygments_lexer": "ipython3",
   "version": "3.8.19"
  }
 },
 "nbformat": 4,
 "nbformat_minor": 5
}
