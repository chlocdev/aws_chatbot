{
 "cells": [
  {
   "cell_type": "code",
   "execution_count": 20,
   "id": "57a48694-fdd5-482a-93e2-48f81bfe493a",
   "metadata": {},
   "outputs": [],
   "source": [
    "import os"
   ]
  },
  {
   "cell_type": "code",
   "execution_count": 3,
   "id": "46e28e76-4234-4b54-883f-2a9b933d291f",
   "metadata": {},
   "outputs": [
    {
     "data": {
      "text/plain": [
       "['Exam3.txt',\n",
       " 'Exam7.txt',\n",
       " 'Exam6.txt',\n",
       " 'Exam8.txt',\n",
       " 'Exam4.txt',\n",
       " 'Exam5.txt',\n",
       " 'Exam2.txt',\n",
       " 'Exam1.txt']"
      ]
     },
     "execution_count": 3,
     "metadata": {},
     "output_type": "execute_result"
    }
   ],
   "source": [
    "RESOURCE_PATH = '../resource/exams'\n",
    "\n",
    "# check files in resource path\n",
    "files = os.listdir(RESOURCE_PATH)\n",
    "files"
   ]
  },
  {
   "cell_type": "code",
   "execution_count": 4,
   "id": "9085253b-f7f0-464a-b88c-b969203c49d5",
   "metadata": {},
   "outputs": [
    {
     "data": {
      "text/plain": [
       "'../resource/exams/Exam3.txt'"
      ]
     },
     "execution_count": 4,
     "metadata": {},
     "output_type": "execute_result"
    }
   ],
   "source": [
    "current_file = os.path.join(RESOURCE_PATH,files[0])\n",
    "current_file"
   ]
  },
  {
   "cell_type": "code",
   "execution_count": 24,
   "id": "8c8d3f7d-0255-49da-8fc9-16ce6711cfcf",
   "metadata": {},
   "outputs": [
    {
     "name": "stdout",
     "output_type": "stream",
     "text": [
      "1. Which AWS service collects performance metrics from EC2 instances?\n",
      "CloudSearch\n",
      "CloudWatch \n",
      "CloudTrail\n",
      "CloudFront \n",
      "\n",
      "2. Who has control of the data security in an AWS account?\n",
      "AWS Security Team\n",
      "AWS Account Owner \n",
      "AWS Technical Account Manager (TAM)\n",
      "AWS Support Team \n",
      "\n",
      "(3). Which AWS can be used to mitigate DDoS attacks?\n",
      "(Choose 2)\n",
      "AWS EC2 \n",
      "AWS Shield  \n",
      "S3\n",
      "Cloudfront  \n",
      "\n",
      "4. There is a requirement to host a database server for a minimum period of one year. Which of the following would result in the least cost?\n",
      "On-Demand\n",
      "Partial Upfront costs Reserved \n",
      "No Upfront costs Reserved\n",
      "Spot Instances \n",
      "\n",
      "5. Which of the following is NOT a feature of an Edge Location?\n",
      "Cache common responses\n",
      "Distribute load across multiple resources \n",
      "Used in conjunction with the CloudFront service\n",
      "Distribute content to users \n",
      "\n"
     ]
    }
   ],
   "source": [
    "# Load text\n",
    "with open(current_file) as f:\n",
    "    content = f.read()\n",
    "\n",
    "questions = content.split(\"\\n\\n\")\n",
    "\n",
    "# Show text\n",
    "for i in range(5):\n",
    "    print(questions[i],'\\n')"
   ]
  },
  {
   "cell_type": "code",
   "execution_count": 48,
   "id": "d8f9de14-c2ce-459b-8f26-0e83c0b6d0ac",
   "metadata": {},
   "outputs": [
    {
     "name": "stdout",
     "output_type": "stream",
     "text": [
      "65\n"
     ]
    }
   ],
   "source": [
    "print(len(questions))"
   ]
  },
  {
   "cell_type": "code",
   "execution_count": 43,
   "id": "bdceefab-dda4-48d2-bbb6-e759d41e394c",
   "metadata": {},
   "outputs": [
    {
     "name": "stdout",
     "output_type": "stream",
     "text": [
      "1. Which AWS service collects performance metrics from EC2 instances?\n",
      "CloudSearch\n",
      "CloudWatch \n",
      "CloudTrail\n",
      "CloudFront\n"
     ]
    }
   ],
   "source": [
    "# Show 1 example\n",
    "current_question = questions[0]\n",
    "print(current_question)"
   ]
  },
  {
   "cell_type": "code",
   "execution_count": 47,
   "id": "8c7006fe-e59a-495f-ab1a-6eb26809cf2f",
   "metadata": {},
   "outputs": [
    {
     "name": "stdout",
     "output_type": "stream",
     "text": [
      "Which AWS service collects performance metrics from EC2 instances?\n",
      "CloudSearch\n",
      "CloudWatch \n",
      "CloudTrail\n",
      "CloudFront\n"
     ]
    }
   ],
   "source": [
    "# 1.\n",
    "# 12.\n",
    "# 12a.\n",
    "def remove_index(current_question):\n",
    "    for i in range(10):\n",
    "        if current_question[i] == '.':\n",
    "            current_question = current_question[i+1:]\n",
    "            break\n",
    "    current_question = current_question.strip()\n",
    "    return current_question\n",
    "\n",
    "# Test function\n",
    "print\n",
    "current_question = questions[0]\n",
    "print(remove_index(current_question))"
   ]
  },
  {
   "cell_type": "code",
   "execution_count": 50,
   "id": "24d8fffc-44a0-4e8e-9906-686747029de6",
   "metadata": {},
   "outputs": [],
   "source": [
    "# Clear all\n",
    "prepocessed_questions = [remove_index(q) for q in questions]"
   ]
  },
  {
   "cell_type": "code",
   "execution_count": 51,
   "id": "d4ebc8c6-5610-487d-9a75-08b878352cb8",
   "metadata": {},
   "outputs": [
    {
     "name": "stdout",
     "output_type": "stream",
     "text": [
      "Which AWS service collects performance metrics from EC2 instances?\n",
      "CloudSearch\n",
      "CloudWatch \n",
      "CloudTrail\n",
      "CloudFront \n",
      "\n",
      "Who has control of the data security in an AWS account?\n",
      "AWS Security Team\n",
      "AWS Account Owner \n",
      "AWS Technical Account Manager (TAM)\n",
      "AWS Support Team \n",
      "\n",
      "Which AWS can be used to mitigate DDoS attacks?\n",
      "(Choose 2)\n",
      "AWS EC2 \n",
      "AWS Shield  \n",
      "S3\n",
      "Cloudfront \n",
      "\n",
      "There is a requirement to host a database server for a minimum period of one year. Which of the following would result in the least cost?\n",
      "On-Demand\n",
      "Partial Upfront costs Reserved \n",
      "No Upfront costs Reserved\n",
      "Spot Instances \n",
      "\n",
      "Which of the following is NOT a feature of an Edge Location?\n",
      "Cache common responses\n",
      "Distribute load across multiple resources \n",
      "Used in conjunction with the CloudFront service\n",
      "Distribute content to users \n",
      "\n"
     ]
    }
   ],
   "source": [
    "# Show text\n",
    "for i in range(5):\n",
    "    print(prepocessed_questions[i],'\\n')"
   ]
  },
  {
   "cell_type": "code",
   "execution_count": 53,
   "id": "11197f54-1820-496b-89ae-7525ad9306ce",
   "metadata": {},
   "outputs": [
    {
     "name": "stdout",
     "output_type": "stream",
     "text": [
      "List of text has been written to questions.csv\n"
     ]
    }
   ],
   "source": [
    "# Export to csv\n",
    "import csv\n",
    "\n",
    "# Define the CSV file path\n",
    "csv_file_path = \"questions.csv\"\n",
    "\n",
    "# Write the list to the CSV file with a header\n",
    "with open(csv_file_path, mode='w', newline='', encoding='utf-8') as file:\n",
    "    writer = csv.writer(file)\n",
    "    # Write the header\n",
    "    writer.writerow([\"question\"])\n",
    "    # Write the text rows\n",
    "    for question in prepocessed_questions:\n",
    "        writer.writerow([question])\n",
    "\n",
    "print(f\"List of text has been written to {csv_file_path}\")"
   ]
  },
  {
   "cell_type": "code",
   "execution_count": 54,
   "id": "dc1ac8ab-d612-43bc-9e4e-53554180b136",
   "metadata": {},
   "outputs": [],
   "source": [
    "# Use UI tool to check result"
   ]
  }
 ],
 "metadata": {
  "kernelspec": {
   "display_name": "Python 3 (ipykernel)",
   "language": "python",
   "name": "python3"
  },
  "language_info": {
   "codemirror_mode": {
    "name": "ipython",
    "version": 3
   },
   "file_extension": ".py",
   "mimetype": "text/x-python",
   "name": "python",
   "nbconvert_exporter": "python",
   "pygments_lexer": "ipython3",
   "version": "3.8.19"
  }
 },
 "nbformat": 4,
 "nbformat_minor": 5
}
